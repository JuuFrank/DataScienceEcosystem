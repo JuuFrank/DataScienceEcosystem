{
  "metadata": {
    "kernelspec": {
      "name": "python",
      "display_name": "Python (Pyodide)",
      "language": "python"
    },
    "language_info": {
      "codemirror_mode": {
        "name": "python",
        "version": 3
      },
      "file_extension": ".py",
      "mimetype": "text/x-python",
      "name": "python",
      "nbconvert_exporter": "python",
      "pygments_lexer": "ipython3",
      "version": "3.8"
    },
    "colab": {
      "provenance": []
    }
  },
  "nbformat_minor": 4,
  "nbformat": 4,
  "cells": [
    {
      "cell_type": "markdown",
      "source": "# Data Science Tools and Ecosystem\n",
      "metadata": {
        "id": "W7hiBRICv_-N"
      }
    },
    {
      "cell_type": "markdown",
      "source": "In this notebook, Data Science Tools and Ecosystem are summarized.",
      "metadata": {
        "id": "yR-xb8Xxwatv"
      }
    },
    {
      "cell_type": "markdown",
      "source": "Some of the popular languages that Data Scientists use are:\n1. Python\n2. R\n3. SQL\n4. C++\n5. java\n6. Julia\n7. Scala\n8. JavaScript\n9. PHP\n10. GO\n11. Ruby\n12. Visual Basic\n\n",
      "metadata": {
        "id": "O7gPdFwdweOe"
      }
    },
    {
      "cell_type": "markdown",
      "source": "Some of the commonly used libraries used by Data Scientists include:\n1. TensorFlow.\n2. NumPy.\n3. Vegas\n4. Pandas.\n5. Matplotlib.\n6. Keras.\n7. SciKit-Learn.\n8. PyTorch.\n9. Seaborn\n10. Apache Spark\n11. Big DL\n12. Ggplot2\n\n",
      "metadata": {
        "id": "TlJLsyz5xd-u"
      }
    },
    {
      "cell_type": "markdown",
      "source": "|Data Science Tools|\n|---|\n|Anaconda|\n|Jupyter Notebooks|\n|R Studio|\n|Spyder|\n|Zeppelin|",
      "metadata": {
        "id": "DSV253Wzx7c4"
      }
    },
    {
      "cell_type": "markdown",
      "source": "### Below are a few examples of evaluating arithmetic expressions in Python",
      "metadata": {
        "id": "UOcYwP2gyT_s"
      }
    },
    {
      "cell_type": "code",
      "source": "#This a simple arithmetic expression to mutiply then add integers\n(3*4)+5",
      "metadata": {
        "colab": {
          "base_uri": "https://localhost:8080/"
        },
        "id": "YQuwRY7h1tOR",
        "outputId": "e4bc9835-9a3a-4c5d-ec35-bffeb5a441f1",
        "trusted": true
      },
      "outputs": [
        {
          "execution_count": 1,
          "output_type": "execute_result",
          "data": {
            "text/plain": "17"
          },
          "metadata": {}
        }
      ],
      "execution_count": 1
    },
    {
      "cell_type": "code",
      "source": "#This will convert 200 minutes to hours by diving by 60\nmin = 200\nhours = min / 60\nprint(\"240 minutes are equivalent to\", hours, \"hours\")",
      "metadata": {
        "colab": {
          "base_uri": "https://localhost:8080/"
        },
        "id": "wW_ays_F19Wg",
        "outputId": "b94d37e9-fb86-4601-bf33-c883f689ad03",
        "trusted": true
      },
      "outputs": [
        {
          "name": "stdout",
          "text": "240 minutes are equivalent to 3.3333333333333335 hours\n",
          "output_type": "stream"
        }
      ],
      "execution_count": 3
    },
    {
      "cell_type": "markdown",
      "source": "__Objective__\n* List of well known Data Science Tools\n* List popular libraries for Data Science\n* List popular languages for Data Science\n* How to Provide comments in the cell\n* Explaning Data Science Concepts\n* Data Analysis Techniques\n\n",
      "metadata": {
        "id": "9Re-Irqh2HJ2"
      }
    },
    {
      "cell_type": "markdown",
      "source": "## **Author**\nJuan Palian\n",
      "metadata": {
        "id": "juflPlDN3BpN"
      }
    }
  ]
}
